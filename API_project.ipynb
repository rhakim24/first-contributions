{
  "cells": [
    {
      "cell_type": "markdown",
      "metadata": {
        "id": "view-in-github",
        "colab_type": "text"
      },
      "source": [
        "<a href=\"https://colab.research.google.com/github/rhakim24/first-contributions/blob/my-branch/API_project.ipynb\" target=\"_parent\"><img src=\"https://colab.research.google.com/assets/colab-badge.svg\" alt=\"Open In Colab\"/></a>"
      ]
    },
    {
      "cell_type": "code",
      "execution_count": null,
      "metadata": {
        "id": "Wc8LVeoSs-Mz",
        "colab": {
          "base_uri": "https://localhost:8080/"
        },
        "outputId": "63f8058e-fb0c-4df3-ebbf-3124af082809"
      },
      "outputs": [
        {
          "output_type": "stream",
          "name": "stdout",
          "text": [
            "Values of a: []\n",
            "Search an artist\n",
            "monet\n",
            "list:\n",
            "https://www.europeana.eu/item/04802/3963238DFDD2CB1D43F3F50DB83682EBB8524928\n"
          ]
        }
      ],
      "source": [
        "###Imports###\n",
        "import requests\n",
        "from bs4 import BeautifulSoup\n",
        "import random\n",
        "\n",
        "###Constant variables###\n",
        "endpoint = \"https://api.europeana.eu/record/v2/opensearch.rss\"\n",
        "\n",
        "a = []\n",
        "\n",
        "print(\"Values of a:\", a)\n",
        "\n",
        "\n",
        "###Take in your input###\n",
        "print(\"Search an artist\")\n",
        "artist = input()\n",
        "#count = input(\"How many hits?\")\n",
        "\n",
        "###Connecting to the API, creating parameters###\n",
        "api_key = \"astaudger\"\n",
        "query_params = {\"api_key\": api_key, \"searchTerms\": artist} #put in variable after search terms\n",
        "response = requests.get(endpoint, params=query_params)\n",
        "\n",
        "###Turn text into BS object###\n",
        "soup = BeautifulSoup(response.text, 'xml')\n",
        "\n",
        "#print(soup.prettify())\n",
        "#print(soup.guid)\n",
        "\n",
        "#extract url from BS object\n",
        "for link in soup.find_all('guid'):\n",
        "    #print(link.text)    #append to an empty list\n",
        "    #list(link.text)\n",
        "    a.append(link.text)\n",
        "\n",
        "print(\"list:\")\n",
        "#print(a)\n",
        "print(random.choice(a))\n",
        "\n",
        "##select random item from list (google / w3schools )"
      ]
    },
    {
      "cell_type": "code",
      "execution_count": null,
      "metadata": {
        "id": "Istr5zl8SgPq"
      },
      "outputs": [],
      "source": [
        "#from bs4 import BeautifulSoup\n",
        "#soup = BeautifulSoup(response.text, 'xml')"
      ]
    },
    {
      "cell_type": "code",
      "execution_count": null,
      "metadata": {
        "id": "Ustm7jblTBU6"
      },
      "outputs": [],
      "source": [
        "#print(soup.prettify())"
      ]
    },
    {
      "cell_type": "code",
      "execution_count": null,
      "metadata": {
        "id": "_Cws3N5tTRUV"
      },
      "outputs": [],
      "source": [
        "#print(soup.guid)"
      ]
    },
    {
      "cell_type": "code",
      "execution_count": null,
      "metadata": {
        "id": "2mEhLvmXVRo0"
      },
      "outputs": [],
      "source": [
        "#print(\"Search an artist\")\n",
        "#artist = input()"
      ]
    },
    {
      "cell_type": "code",
      "execution_count": null,
      "metadata": {
        "id": "MdDgAajAVfYk"
      },
      "outputs": [],
      "source": [
        "##birthday = input(\"enter your birthday: \") #birthday = variable\n",
        "##print(f\"your birthday is {birthday}!\")"
      ]
    },
    {
      "cell_type": "code",
      "execution_count": null,
      "metadata": {
        "id": "M-1dRb2LTt7t"
      },
      "outputs": [],
      "source": [
        "#for link in soup.find_all('guid'):\n",
        "    #print(link.text)"
      ]
    },
    {
      "cell_type": "code",
      "source": [
        "#import requests\n",
        "\n",
        "\n",
        "\n",
        "\n",
        "#endpoint = \"https://api.europeana.eu/record/v2/opensearch.rss\"\n",
        "# Replace DEMO_KEY below with your own key if you generated one.\n",
        "#api_key = \"astaudger\"\n",
        "#query_params = {\"api_key\": api_key, \"count\":1, \"searchTerms\":search}\n",
        "#response = requests.get(endpoint, params=query_params)"
      ],
      "metadata": {
        "id": "BtCpGyN_yF9i"
      },
      "execution_count": null,
      "outputs": []
    }
  ],
  "metadata": {
    "colab": {
      "provenance": [],
      "authorship_tag": "ABX9TyOQYpitrikDI5JVGQFqIf/N",
      "include_colab_link": true
    },
    "kernelspec": {
      "display_name": "Python 3",
      "name": "python3"
    },
    "language_info": {
      "name": "python"
    }
  },
  "nbformat": 4,
  "nbformat_minor": 0
}